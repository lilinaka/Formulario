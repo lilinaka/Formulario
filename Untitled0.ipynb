{
  "nbformat": 4,
  "nbformat_minor": 0,
  "metadata": {
    "colab": {
      "provenance": [],
      "authorship_tag": "ABX9TyOnJUTmp1HILx01PewotVTt",
      "include_colab_link": true
    },
    "kernelspec": {
      "name": "python3",
      "display_name": "Python 3"
    },
    "language_info": {
      "name": "python"
    }
  },
  "cells": [
    {
      "cell_type": "markdown",
      "metadata": {
        "id": "view-in-github",
        "colab_type": "text"
      },
      "source": [
        "<a href=\"https://colab.research.google.com/github/lilinaka/Formulario/blob/master/Untitled0.ipynb\" target=\"_parent\"><img src=\"https://colab.research.google.com/assets/colab-badge.svg\" alt=\"Open In Colab\"/></a>"
      ]
    },
    {
      "cell_type": "code",
      "execution_count": 8,
      "metadata": {
        "colab": {
          "base_uri": "https://localhost:8080/"
        },
        "id": "JFVd65mhvkN5",
        "outputId": "ecc2404b-26f0-4c59-e38c-38b327a19420"
      },
      "outputs": [
        {
          "output_type": "stream",
          "name": "stdout",
          "text": [
            "olá, seja bem-vinda!\n",
            "Lilian - Setor da Aviação Civil\n"
          ]
        }
      ],
      "source": [
        "print('olá, seja bem-vinda!')\n",
        "print('Lilian - Setor da Aviação Civil')"
      ]
    },
    {
      "cell_type": "code",
      "source": [
        "nome = 'Lilian'\n",
        "trabalho = 'ANAC'\n",
        "gostad = 'pizza'\n",
        "\n",
        "print('meu nome é',nome)\n",
        "print ('meu local de trabalho é', trabalho)\n",
        "print('gosto de', gostad)"
      ],
      "metadata": {
        "colab": {
          "base_uri": "https://localhost:8080/"
        },
        "id": "5S_x3vn5ohdt",
        "outputId": "4d6ab9aa-a44d-45fb-cd0e-9ec8a50f7157"
      },
      "execution_count": 5,
      "outputs": [
        {
          "output_type": "stream",
          "name": "stdout",
          "text": [
            "meu nome é Lilian\n",
            "meu local de trabalho é ANAC\n",
            "gosto de pizza\n"
          ]
        }
      ]
    },
    {
      "cell_type": "code",
      "source": [],
      "metadata": {
        "id": "dRgqHGhuqkEG"
      },
      "execution_count": null,
      "outputs": []
    }
  ]
}